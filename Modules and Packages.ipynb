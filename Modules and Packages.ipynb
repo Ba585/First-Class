{
 "cells": [
  {
   "cell_type": "code",
   "execution_count": null,
   "id": "f802c988",
   "metadata": {},
   "outputs": [],
   "source": []
  },
  {
   "cell_type": "code",
   "execution_count": 1,
   "id": "699b6e73",
   "metadata": {},
   "outputs": [],
   "source": [
    "## Call the Package\n",
    "# Syntax : import packageName\n",
    "\n",
    "import math"
   ]
  },
  {
   "cell_type": "code",
   "execution_count": 3,
   "id": "97519e7e",
   "metadata": {},
   "outputs": [
    {
     "name": "stdout",
     "output_type": "stream",
     "text": [
      "2.449489742783178\n",
      "1.791759469228055\n",
      "-0.29100619138474915\n"
     ]
    }
   ],
   "source": [
    "## Call the Module # 100% of my approach\n",
    "\n",
    "# Approach 1\n",
    "# Syntax : import packageName\n",
    "\n",
    "import math ## Call the Package \n",
    "num = 6\n",
    "print( math.sqrt(num) )\n",
    "print( math.log(num) )\n",
    "print( math.tan(num) )\n",
    "\n"
   ]
  },
  {
   "cell_type": "code",
   "execution_count": 8,
   "id": "e2ec05b9",
   "metadata": {},
   "outputs": [
    {
     "name": "stdout",
     "output_type": "stream",
     "text": [
      "2.449489742783178\n",
      "1.791759469228055\n",
      "-0.29100619138474915\n"
     ]
    },
    {
     "ename": "NameError",
     "evalue": "name 'tan' is not defined",
     "output_type": "error",
     "traceback": [
      "\u001b[1;31m---------------------------------------------------------------------------\u001b[0m",
      "\u001b[1;31mNameError\u001b[0m                                 Traceback (most recent call last)",
      "Cell \u001b[1;32mIn[8], line 12\u001b[0m\n\u001b[0;32m     10\u001b[0m \u001b[38;5;28mprint\u001b[39m( log(num) )   \u001b[38;5;66;03m# modules / functions\u001b[39;00m\n\u001b[0;32m     11\u001b[0m \u001b[38;5;28mprint\u001b[39m( math\u001b[38;5;241m.\u001b[39mtan(num) )   \u001b[38;5;66;03m# modules / functions\u001b[39;00m\n\u001b[1;32m---> 12\u001b[0m \u001b[38;5;28mprint\u001b[39m( tan(num) )\n",
      "\u001b[1;31mNameError\u001b[0m: name 'tan' is not defined"
     ]
    }
   ],
   "source": [
    "## Call the SPECIFIC Module\n",
    "\n",
    "# Approach 2\n",
    "# Syntax : from packageName import moduleName\n",
    "\n",
    "from math import sqrt, log\n",
    "import math\n",
    "num = 6\n",
    "print( sqrt(num) )  # modules / functions\n",
    "print( log(num) )   # modules / functions\n",
    "print( math.tan(num) )   # modules / functions\n",
    "print( tan(num) )   # modules / functions\n",
    "\n"
   ]
  },
  {
   "cell_type": "code",
   "execution_count": 11,
   "id": "4ffaccc3",
   "metadata": {},
   "outputs": [
    {
     "name": "stdout",
     "output_type": "stream",
     "text": [
      "2.449489742783178\n",
      "1.791759469228055\n",
      "-0.29100619138474915\n",
      "-0.27941549819892586\n"
     ]
    }
   ],
   "source": [
    "## Call ALL the Module\n",
    "\n",
    "# Approach 3\n",
    "# Syntax : from packageName import *\n",
    "\n",
    "\n",
    "from math import *\n",
    "num = 6\n",
    "print( sqrt(num) )  # modules / functions\n",
    "print( log(num) )   # modules / functions\n",
    "print( tan(num) )   # modules / functions\n",
    "\n",
    "print( sin(num) )"
   ]
  },
  {
   "cell_type": "code",
   "execution_count": 6,
   "id": "384a4a03",
   "metadata": {},
   "outputs": [],
   "source": [
    "# from a.b.c import x\n",
    "\n",
    "# a , b  = folders\n",
    "# c = py file\n",
    "# x =  function\n",
    "\n"
   ]
  },
  {
   "cell_type": "code",
   "execution_count": 15,
   "id": "67e9269e",
   "metadata": {},
   "outputs": [
    {
     "data": {
      "text/plain": [
       "'PYTHON'"
      ]
     },
     "execution_count": 15,
     "metadata": {},
     "output_type": "execute_result"
    }
   ],
   "source": [
    "stringName = 'python'\n",
    "\n",
    "stringName.upper( )"
   ]
  },
  {
   "cell_type": "code",
   "execution_count": 16,
   "id": "42d3c335",
   "metadata": {},
   "outputs": [
    {
     "data": {
      "text/plain": [
       "'07-01-2024 12 : 06'"
      ]
     },
     "execution_count": 16,
     "metadata": {},
     "output_type": "execute_result"
    }
   ],
   "source": [
    "import my_space\n",
    "\n",
    "my_space.get_date_time()"
   ]
  },
  {
   "cell_type": "code",
   "execution_count": null,
   "id": "3a79dcff",
   "metadata": {},
   "outputs": [],
   "source": [
    "# docstring: first comment written inside the function or class"
   ]
  },
  {
   "cell_type": "code",
   "execution_count": 19,
   "id": "c5610d68",
   "metadata": {},
   "outputs": [
    {
     "data": {
      "text/plain": [
       "3628800"
      ]
     },
     "execution_count": 19,
     "metadata": {},
     "output_type": "execute_result"
    }
   ],
   "source": [
    "import my_space\n",
    "\n",
    "my_space.fact(10)"
   ]
  },
  {
   "cell_type": "code",
   "execution_count": null,
   "id": "16010869",
   "metadata": {},
   "outputs": [],
   "source": []
  },
  {
   "cell_type": "code",
   "execution_count": 20,
   "id": "edd67d3d",
   "metadata": {},
   "outputs": [],
   "source": [
    "import datetime\n",
    "def get_date_time() :\n",
    "    \"\"\"Return Current Date and Time in format :\n",
    "        \"%d-%m-%Y %H : %M\"\n",
    "    \"\"\"\n",
    "\n",
    "    currentTimeStamp = datetime.datetime.now()\n",
    "    currenTime = currentTimeStamp.strftime(\"%d-%m-%Y %H : %M\")\n",
    "    return currenTime\n"
   ]
  },
  {
   "cell_type": "code",
   "execution_count": null,
   "id": "1f43685b",
   "metadata": {},
   "outputs": [],
   "source": [
    "get_date_time()"
   ]
  },
  {
   "cell_type": "code",
   "execution_count": 21,
   "id": "01488aaa",
   "metadata": {},
   "outputs": [
    {
     "data": {
      "text/plain": [
       "3628800"
      ]
     },
     "execution_count": 21,
     "metadata": {},
     "output_type": "execute_result"
    }
   ],
   "source": [
    "def fact(n) : # n represent the number for which factorial needs to be found\n",
    "    \"\"\"Function to return Factorial of a NUMBER\n",
    "        Ex : Input - 5 , Factorial - 120\n",
    "    \"\"\"\n",
    "    \n",
    "    finalAnswer = 1\n",
    "\n",
    "    for i in range(1, n+1) : \n",
    "        finalAnswer = finalAnswer * i \n",
    "    \n",
    "    return finalAnswer\n",
    "\n",
    "fact(10)"
   ]
  },
  {
   "cell_type": "code",
   "execution_count": null,
   "id": "fdb55762",
   "metadata": {},
   "outputs": [],
   "source": [
    "# If you want that your py_file shall be used by other team members, then make sure there is no FUNCTION calling in your py_file.\n",
    "# else, the teeam will get output from your py_file as well as for the function calling there are doing...\n"
   ]
  },
  {
   "cell_type": "code",
   "execution_count": null,
   "id": "d2b4a781",
   "metadata": {},
   "outputs": [],
   "source": []
  },
  {
   "cell_type": "code",
   "execution_count": null,
   "id": "467d89e5",
   "metadata": {},
   "outputs": [],
   "source": [
    "# How to Import the package\n",
    "# How to Import the Module from package\n",
    "# How to create your own py_file as package\n"
   ]
  },
  {
   "cell_type": "code",
   "execution_count": 22,
   "id": "cd05e0ab",
   "metadata": {},
   "outputs": [
    {
     "name": "stdout",
     "output_type": "stream",
     "text": [
      "Requirement already satisfied: pandas in d:\\programs\\python\\anaconda\\lib\\site-packages (2.0.3)\n",
      "Requirement already satisfied: python-dateutil>=2.8.2 in d:\\programs\\python\\anaconda\\lib\\site-packages (from pandas) (2.8.2)\n",
      "Requirement already satisfied: pytz>=2020.1 in d:\\programs\\python\\anaconda\\lib\\site-packages (from pandas) (2023.3.post1)\n",
      "Requirement already satisfied: tzdata>=2022.1 in d:\\programs\\python\\anaconda\\lib\\site-packages (from pandas) (2023.3)\n",
      "Requirement already satisfied: numpy>=1.21.0 in d:\\programs\\python\\anaconda\\lib\\site-packages (from pandas) (1.24.3)\n",
      "Requirement already satisfied: six>=1.5 in d:\\programs\\python\\anaconda\\lib\\site-packages (from python-dateutil>=2.8.2->pandas) (1.16.0)\n"
     ]
    }
   ],
   "source": [
    "# How to install the package\n",
    "\n",
    "# step 1 : FIND ONLINE THE CORRECT PACKAGE NAME\n",
    "# step 2 : open command prompt\n",
    "# step 3 : pip install packageName\n",
    "# step 3 : !pip install packageName  # ONLY JUPYTER NOTEBOOK\n",
    "\n",
    "!pip install pandas"
   ]
  },
  {
   "cell_type": "code",
   "execution_count": null,
   "id": "4967b9c7",
   "metadata": {},
   "outputs": [],
   "source": []
  },
  {
   "cell_type": "code",
   "execution_count": 24,
   "id": "745e4454",
   "metadata": {},
   "outputs": [
    {
     "name": "stdout",
     "output_type": "stream",
     "text": [
      "Collecting python-youtube==0.9.2\n",
      "  Obtaining dependency information for python-youtube==0.9.2 from https://files.pythonhosted.org/packages/88/9c/a0bd5874aa61d1a90b2769da446474b2a33a09f812e20837c7600e66e0f5/python_youtube-0.9.2-py3-none-any.whl.metadata\n",
      "  Downloading python_youtube-0.9.2-py3-none-any.whl.metadata (7.7 kB)\n",
      "Collecting dataclasses-json<0.6.0,>=0.5.3 (from python-youtube==0.9.2)\n",
      "  Obtaining dependency information for dataclasses-json<0.6.0,>=0.5.3 from https://files.pythonhosted.org/packages/97/5f/e7cc90f36152810cab08b6c9c1125e8bcb9d76f8b3018d101b5f877b386c/dataclasses_json-0.5.14-py3-none-any.whl.metadata\n",
      "  Downloading dataclasses_json-0.5.14-py3-none-any.whl.metadata (22 kB)\n",
      "Collecting isodate<0.7.0,>=0.6.0 (from python-youtube==0.9.2)\n",
      "  Using cached isodate-0.6.1-py2.py3-none-any.whl (41 kB)\n",
      "Requirement already satisfied: requests<3.0.0,>=2.24.0 in d:\\programs\\python\\anaconda\\lib\\site-packages (from python-youtube==0.9.2) (2.31.0)\n",
      "Collecting requests-oauthlib<2.0.0,>=1.3.0 (from python-youtube==0.9.2)\n",
      "  Using cached requests_oauthlib-1.3.1-py2.py3-none-any.whl (23 kB)\n",
      "Collecting marshmallow<4.0.0,>=3.18.0 (from dataclasses-json<0.6.0,>=0.5.3->python-youtube==0.9.2)\n",
      "  Obtaining dependency information for marshmallow<4.0.0,>=3.18.0 from https://files.pythonhosted.org/packages/ed/3c/cebfdcad015240014ff08b883d1c0c427f2ba45ae8c6572851b6ef136cad/marshmallow-3.20.1-py3-none-any.whl.metadata\n",
      "  Using cached marshmallow-3.20.1-py3-none-any.whl.metadata (7.8 kB)\n",
      "Collecting typing-inspect<1,>=0.4.0 (from dataclasses-json<0.6.0,>=0.5.3->python-youtube==0.9.2)\n",
      "  Obtaining dependency information for typing-inspect<1,>=0.4.0 from https://files.pythonhosted.org/packages/65/f3/107a22063bf27bdccf2024833d3445f4eea42b2e598abfbd46f6a63b6cb0/typing_inspect-0.9.0-py3-none-any.whl.metadata\n",
      "  Using cached typing_inspect-0.9.0-py3-none-any.whl.metadata (1.5 kB)\n",
      "Requirement already satisfied: six in d:\\programs\\python\\anaconda\\lib\\site-packages (from isodate<0.7.0,>=0.6.0->python-youtube==0.9.2) (1.16.0)\n",
      "Requirement already satisfied: charset-normalizer<4,>=2 in d:\\programs\\python\\anaconda\\lib\\site-packages (from requests<3.0.0,>=2.24.0->python-youtube==0.9.2) (2.0.4)\n",
      "Requirement already satisfied: idna<4,>=2.5 in d:\\programs\\python\\anaconda\\lib\\site-packages (from requests<3.0.0,>=2.24.0->python-youtube==0.9.2) (3.4)\n",
      "Requirement already satisfied: urllib3<3,>=1.21.1 in d:\\programs\\python\\anaconda\\lib\\site-packages (from requests<3.0.0,>=2.24.0->python-youtube==0.9.2) (1.26.16)\n",
      "Requirement already satisfied: certifi>=2017.4.17 in d:\\programs\\python\\anaconda\\lib\\site-packages (from requests<3.0.0,>=2.24.0->python-youtube==0.9.2) (2023.7.22)\n",
      "Collecting oauthlib>=3.0.0 (from requests-oauthlib<2.0.0,>=1.3.0->python-youtube==0.9.2)\n",
      "  Using cached oauthlib-3.2.2-py3-none-any.whl (151 kB)\n",
      "Requirement already satisfied: packaging>=17.0 in d:\\programs\\python\\anaconda\\lib\\site-packages (from marshmallow<4.0.0,>=3.18.0->dataclasses-json<0.6.0,>=0.5.3->python-youtube==0.9.2) (23.1)\n",
      "Requirement already satisfied: mypy-extensions>=0.3.0 in d:\\programs\\python\\anaconda\\lib\\site-packages (from typing-inspect<1,>=0.4.0->dataclasses-json<0.6.0,>=0.5.3->python-youtube==0.9.2) (1.0.0)\n",
      "Requirement already satisfied: typing-extensions>=3.7.4 in d:\\programs\\python\\anaconda\\lib\\site-packages (from typing-inspect<1,>=0.4.0->dataclasses-json<0.6.0,>=0.5.3->python-youtube==0.9.2) (4.7.1)\n",
      "Downloading python_youtube-0.9.2-py3-none-any.whl (81 kB)\n",
      "   ---------------------------------------- 0.0/81.3 kB ? eta -:--:--\n",
      "   --------------- ------------------------ 30.7/81.3 kB 640.0 kB/s eta 0:00:01\n",
      "   ---------------------------------------- 81.3/81.3 kB 1.1 MB/s eta 0:00:00\n",
      "Downloading dataclasses_json-0.5.14-py3-none-any.whl (26 kB)\n",
      "Using cached marshmallow-3.20.1-py3-none-any.whl (49 kB)\n",
      "Using cached typing_inspect-0.9.0-py3-none-any.whl (8.8 kB)\n",
      "Installing collected packages: typing-inspect, oauthlib, marshmallow, isodate, requests-oauthlib, dataclasses-json, python-youtube\n",
      "Successfully installed dataclasses-json-0.5.14 isodate-0.6.1 marshmallow-3.20.1 oauthlib-3.2.2 python-youtube-0.9.2 requests-oauthlib-1.3.1 typing-inspect-0.9.0\n"
     ]
    }
   ],
   "source": [
    "# How to install the package with specific version\n",
    "\n",
    "# step 1 : FIND ONLINE THE CORRECT PACKAGE NAME and VERSION\n",
    "# step 2 : open command prompt\n",
    "# step 3 : pip install packageName==version\n",
    "# step 3 : !pip install packageName  # ONLY JUPYTER NOTEBOOK\n",
    "\n",
    "!pip install python-youtube==0.9.2"
   ]
  },
  {
   "cell_type": "code",
   "execution_count": null,
   "id": "f61b28d5",
   "metadata": {},
   "outputs": [],
   "source": []
  },
  {
   "cell_type": "code",
   "execution_count": null,
   "id": "1a49b32e",
   "metadata": {},
   "outputs": [],
   "source": []
  }
 ],
 "metadata": {
  "kernelspec": {
   "display_name": "Python 3 (ipykernel)",
   "language": "python",
   "name": "python3"
  },
  "language_info": {
   "codemirror_mode": {
    "name": "ipython",
    "version": 3
   },
   "file_extension": ".py",
   "mimetype": "text/x-python",
   "name": "python",
   "nbconvert_exporter": "python",
   "pygments_lexer": "ipython3",
   "version": "3.11.5"
  }
 },
 "nbformat": 4,
 "nbformat_minor": 5
}
